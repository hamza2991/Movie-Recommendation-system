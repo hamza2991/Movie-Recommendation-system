{
 "cells": [
  {
   "cell_type": "code",
   "execution_count": 1,
   "id": "a77b02f1-d507-4381-b3c4-460171f2153c",
   "metadata": {},
   "outputs": [],
   "source": [
    "import numpy as np\n",
    "import pandas as pd\n",
    "import nltk\n",
    "#stemming class from nltk\n",
    "from nltk.stem.porter import PorterStemmer\n",
    "#count vectorizor\n",
    "from sklearn.feature_extraction.text import CountVectorizer\n",
    "#cosine similarties to calculate the similarty measure between movies\n",
    "from sklearn.metrics.pairwise import cosine_similarity"
   ]
  },
  {
   "cell_type": "code",
   "execution_count": 2,
   "id": "ef17485a-80c1-4f29-9931-d621f747c6fd",
   "metadata": {},
   "outputs": [],
   "source": [
    "df = pd.read_csv(r'C:\\Users\\Malik\\Desktop\\New Text Document (3).txt')"
   ]
  },
  {
   "cell_type": "code",
   "execution_count": 3,
   "id": "b91b2e1a-e9de-44f2-bf58-b293904d7086",
   "metadata": {},
   "outputs": [],
   "source": [
    "ps = PorterStemmer()\n",
    "stopwords = nltk.corpus.stopwords.words('english')"
   ]
  },
  {
   "cell_type": "code",
   "execution_count": 4,
   "id": "aee3aecf-984c-4401-a67d-01bd81689fef",
   "metadata": {},
   "outputs": [],
   "source": [
    "def stem (text):\n",
    "    y = []\n",
    "    for i in text.split():\n",
    "        if i not in stopwords:\n",
    "            y.append(ps.stem(i))\n",
    "    return ' '.join(y) "
   ]
  },
  {
   "cell_type": "code",
   "execution_count": 5,
   "id": "9c9914ab-33ee-470c-baec-88331cc64b16",
   "metadata": {},
   "outputs": [],
   "source": [
    "df['stem_tag'] = df['tags'].apply(lambda x: stem(x) )"
   ]
  },
  {
   "cell_type": "code",
   "execution_count": 6,
   "id": "06aff470-f18b-4a67-82ea-6120b251c262",
   "metadata": {},
   "outputs": [
    {
     "data": {
      "text/html": [
       "<div>\n",
       "<style scoped>\n",
       "    .dataframe tbody tr th:only-of-type {\n",
       "        vertical-align: middle;\n",
       "    }\n",
       "\n",
       "    .dataframe tbody tr th {\n",
       "        vertical-align: top;\n",
       "    }\n",
       "\n",
       "    .dataframe thead th {\n",
       "        text-align: right;\n",
       "    }\n",
       "</style>\n",
       "<table border=\"1\" class=\"dataframe\">\n",
       "  <thead>\n",
       "    <tr style=\"text-align: right;\">\n",
       "      <th></th>\n",
       "      <th>movie_id</th>\n",
       "      <th>title</th>\n",
       "      <th>tags</th>\n",
       "      <th>stem_tag</th>\n",
       "    </tr>\n",
       "  </thead>\n",
       "  <tbody>\n",
       "    <tr>\n",
       "      <th>0</th>\n",
       "      <td>19995</td>\n",
       "      <td>Avatar</td>\n",
       "      <td>in the 22nd century, a paraplegic marine is di...</td>\n",
       "      <td>22nd century, parapleg marin dispatch moon pan...</td>\n",
       "    </tr>\n",
       "    <tr>\n",
       "      <th>1</th>\n",
       "      <td>285</td>\n",
       "      <td>Pirates of the Caribbean: At World's End</td>\n",
       "      <td>captain barbossa, long believed to be dead, ha...</td>\n",
       "      <td>captain barbossa, long believ dead, come back ...</td>\n",
       "    </tr>\n",
       "    <tr>\n",
       "      <th>2</th>\n",
       "      <td>206647</td>\n",
       "      <td>Spectre</td>\n",
       "      <td>a cryptic message from bond’s past sends him o...</td>\n",
       "      <td>cryptic messag bond’ past send trail uncov sin...</td>\n",
       "    </tr>\n",
       "    <tr>\n",
       "      <th>3</th>\n",
       "      <td>49026</td>\n",
       "      <td>The Dark Knight Rises</td>\n",
       "      <td>following the death of district attorney harve...</td>\n",
       "      <td>follow death district attorney harvey dent, ba...</td>\n",
       "    </tr>\n",
       "    <tr>\n",
       "      <th>4</th>\n",
       "      <td>49529</td>\n",
       "      <td>John Carter</td>\n",
       "      <td>john carter is a war-weary, former military ca...</td>\n",
       "      <td>john carter war-weary, former militari captain...</td>\n",
       "    </tr>\n",
       "    <tr>\n",
       "      <th>...</th>\n",
       "      <td>...</td>\n",
       "      <td>...</td>\n",
       "      <td>...</td>\n",
       "      <td>...</td>\n",
       "    </tr>\n",
       "    <tr>\n",
       "      <th>4801</th>\n",
       "      <td>9367</td>\n",
       "      <td>El Mariachi</td>\n",
       "      <td>el mariachi just wants to play his guitar and ...</td>\n",
       "      <td>el mariachi want play guitar carri famili trad...</td>\n",
       "    </tr>\n",
       "    <tr>\n",
       "      <th>4802</th>\n",
       "      <td>72766</td>\n",
       "      <td>Newlyweds</td>\n",
       "      <td>a newlywed couple's honeymoon is upended by th...</td>\n",
       "      <td>newlyw couple' honeymoon upend arriv respect s...</td>\n",
       "    </tr>\n",
       "    <tr>\n",
       "      <th>4803</th>\n",
       "      <td>231617</td>\n",
       "      <td>Signed, Sealed, Delivered</td>\n",
       "      <td>\"signed, sealed, delivered\" introduces a dedic...</td>\n",
       "      <td>\"signed, sealed, delivered\" introduc dedic qua...</td>\n",
       "    </tr>\n",
       "    <tr>\n",
       "      <th>4804</th>\n",
       "      <td>126186</td>\n",
       "      <td>Shanghai Calling</td>\n",
       "      <td>when ambitious new york attorney sam is sent t...</td>\n",
       "      <td>ambiti new york attorney sam sent shanghai ass...</td>\n",
       "    </tr>\n",
       "    <tr>\n",
       "      <th>4805</th>\n",
       "      <td>25975</td>\n",
       "      <td>My Date with Drew</td>\n",
       "      <td>ever since the second grade when he first saw ...</td>\n",
       "      <td>ever sinc second grade first saw e.t. extrater...</td>\n",
       "    </tr>\n",
       "  </tbody>\n",
       "</table>\n",
       "<p>4806 rows × 4 columns</p>\n",
       "</div>"
      ],
      "text/plain": [
       "      movie_id                                     title  \\\n",
       "0        19995                                    Avatar   \n",
       "1          285  Pirates of the Caribbean: At World's End   \n",
       "2       206647                                   Spectre   \n",
       "3        49026                     The Dark Knight Rises   \n",
       "4        49529                               John Carter   \n",
       "...        ...                                       ...   \n",
       "4801      9367                               El Mariachi   \n",
       "4802     72766                                 Newlyweds   \n",
       "4803    231617                 Signed, Sealed, Delivered   \n",
       "4804    126186                          Shanghai Calling   \n",
       "4805     25975                         My Date with Drew   \n",
       "\n",
       "                                                   tags  \\\n",
       "0     in the 22nd century, a paraplegic marine is di...   \n",
       "1     captain barbossa, long believed to be dead, ha...   \n",
       "2     a cryptic message from bond’s past sends him o...   \n",
       "3     following the death of district attorney harve...   \n",
       "4     john carter is a war-weary, former military ca...   \n",
       "...                                                 ...   \n",
       "4801  el mariachi just wants to play his guitar and ...   \n",
       "4802  a newlywed couple's honeymoon is upended by th...   \n",
       "4803  \"signed, sealed, delivered\" introduces a dedic...   \n",
       "4804  when ambitious new york attorney sam is sent t...   \n",
       "4805  ever since the second grade when he first saw ...   \n",
       "\n",
       "                                               stem_tag  \n",
       "0     22nd century, parapleg marin dispatch moon pan...  \n",
       "1     captain barbossa, long believ dead, come back ...  \n",
       "2     cryptic messag bond’ past send trail uncov sin...  \n",
       "3     follow death district attorney harvey dent, ba...  \n",
       "4     john carter war-weary, former militari captain...  \n",
       "...                                                 ...  \n",
       "4801  el mariachi want play guitar carri famili trad...  \n",
       "4802  newlyw couple' honeymoon upend arriv respect s...  \n",
       "4803  \"signed, sealed, delivered\" introduc dedic qua...  \n",
       "4804  ambiti new york attorney sam sent shanghai ass...  \n",
       "4805  ever sinc second grade first saw e.t. extrater...  \n",
       "\n",
       "[4806 rows x 4 columns]"
      ]
     },
     "execution_count": 6,
     "metadata": {},
     "output_type": "execute_result"
    }
   ],
   "source": [
    "df"
   ]
  },
  {
   "cell_type": "code",
   "execution_count": 7,
   "id": "75098941-d702-492c-ae84-b3dfc1be63c0",
   "metadata": {},
   "outputs": [],
   "source": [
    "cv = CountVectorizer()\n",
    "x = cv.fit_transform(df['stem_tag']).toarray()"
   ]
  },
  {
   "cell_type": "code",
   "execution_count": 8,
   "id": "7c8ffae7-a3bc-4e2f-bdbc-623bf2f83485",
   "metadata": {},
   "outputs": [],
   "source": [
    "similarity = cosine_similarity(x)"
   ]
  },
  {
   "cell_type": "code",
   "execution_count": 9,
   "id": "394241d5-b3f0-4842-832f-7fb0c89dd16a",
   "metadata": {},
   "outputs": [
    {
     "data": {
      "text/plain": [
       "array([0.06693161, 1.        , 0.0722944 , ..., 0.01937097, 0.        ,\n",
       "       0.        ])"
      ]
     },
     "execution_count": 9,
     "metadata": {},
     "output_type": "execute_result"
    }
   ],
   "source": [
    "similarity[1]"
   ]
  },
  {
   "cell_type": "code",
   "execution_count": 10,
   "id": "ac423d89-0780-456c-a861-e7622ce7378b",
   "metadata": {},
   "outputs": [
    {
     "data": {
      "text/plain": [
       "(4806, 4806)"
      ]
     },
     "execution_count": 10,
     "metadata": {},
     "output_type": "execute_result"
    }
   ],
   "source": [
    "similarity.shape"
   ]
  },
  {
   "cell_type": "code",
   "execution_count": 11,
   "id": "feb99694-e145-4670-bf37-3e76808f3615",
   "metadata": {},
   "outputs": [],
   "source": [
    "def recommend (movie):\n",
    "    y = df.index[df['title']== movie].tolist()[0]\n",
    "    z = sorted(list(enumerate (similarity[y])), reverse=True, key=lambda x:x[1])[1:6]\n",
    "    for idx, value in z:\n",
    "        print(df['title'][idx])"
   ]
  },
  {
   "cell_type": "code",
   "execution_count": 35,
   "id": "f1d0b888-4a50-4463-9417-56a752977363",
   "metadata": {},
   "outputs": [],
   "source": [
    "from tkinter import *\n",
    "from tkinter import ttk"
   ]
  },
  {
   "cell_type": "code",
   "execution_count": 71,
   "id": "57811a7b-e784-4341-a08e-fd87d2527fa7",
   "metadata": {},
   "outputs": [],
   "source": [
    "def submit ():\n",
    "    y = df.index[df['title']== mycombo.get()].tolist()[0]\n",
    "    z = sorted(list(enumerate (similarity[y])), reverse=True, key=lambda x:x[1])[1:6]\n",
    "    result = []\n",
    "    for idx, value in z:\n",
    "        result.append(df['title'][idx])\n",
    "    mytext.insert(INSERT, result)\n",
    "\n",
    "def clear():\n",
    "    mytext.delete(1.0, END)\n",
    "root = Tk()\n",
    "root.geometry( \"500x500\" )\n",
    "root.title('Recommendation system')\n",
    "options = sorted(df['title'].tolist())\n",
    "\n",
    "\n",
    "mycombo = ttk.Combobox(root, value=options)\n",
    "mycombo.current(0)\n",
    "mycombo.bind('<<ComboboxSelected>>')\n",
    "mycombo.pack()\n",
    "\n",
    "mybutton = Button(root, text= 'submit', command = submit)\n",
    "mybutton.pack()\n",
    "\n",
    "mytext = Text(root, width=75, height = 6)\n",
    "mytext.pack()\n",
    "\n",
    "mybutton = Button(root, text= 'clear', command = clear)\n",
    "mybutton.pack()\n",
    "root.mainloop()"
   ]
  },
  {
   "cell_type": "code",
   "execution_count": null,
   "id": "4fc593e2-849e-4fcd-baa8-356f8efa92bd",
   "metadata": {},
   "outputs": [],
   "source": []
  }
 ],
 "metadata": {
  "kernelspec": {
   "display_name": "Python 3 (ipykernel)",
   "language": "python",
   "name": "python3"
  },
  "language_info": {
   "codemirror_mode": {
    "name": "ipython",
    "version": 3
   },
   "file_extension": ".py",
   "mimetype": "text/x-python",
   "name": "python",
   "nbconvert_exporter": "python",
   "pygments_lexer": "ipython3",
   "version": "3.9.12"
  }
 },
 "nbformat": 4,
 "nbformat_minor": 5
}
